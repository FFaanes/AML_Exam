{
 "cells": [
  {
   "cell_type": "markdown",
   "id": "28773ce3-a190-44e7-9de9-fdc422e4d3b9",
   "metadata": {},
   "source": [
    "# AML Exam"
   ]
  },
  {
   "cell_type": "markdown",
   "id": "404afa46-4f92-4696-a04d-c1b4a0d941da",
   "metadata": {},
   "source": [
    "•"
   ]
  },
  {
   "cell_type": "markdown",
   "id": "32c9ffbe-5ef2-48be-b49b-1e5769c8f32d",
   "metadata": {
    "toc-hr-collapsed": true
   },
   "source": [
    "# 1. Importing Libraries"
   ]
  },
  {
   "cell_type": "markdown",
   "id": "cd78de19-ae1c-4748-99bc-1a1ef3fa5f07",
   "metadata": {},
   "source": [
    "• Downloading external libraries"
   ]
  },
  {
   "cell_type": "code",
   "execution_count": null,
   "id": "a1f46be4-ec44-42b6-ba89-420c0fd1a2e8",
   "metadata": {},
   "outputs": [],
   "source": [
    "!pip install opencv-python"
   ]
  },
  {
   "cell_type": "markdown",
   "id": "99189030-ecfa-4aa0-a8fe-141fabadaa17",
   "metadata": {
    "tags": []
   },
   "source": [
    "• Importing Libraries"
   ]
  },
  {
   "cell_type": "code",
   "execution_count": 180,
   "id": "c57210b3-ccf2-4810-9eb7-bd4417817e23",
   "metadata": {
    "tags": []
   },
   "outputs": [],
   "source": [
    "import os\n",
    "import numpy as np\n",
    "import pandas as pd\n",
    "import cv2\n",
    "import shutil\n",
    "from matplotlib import pyplot as plt"
   ]
  },
  {
   "cell_type": "markdown",
   "id": "74b867ed-bfb9-4a12-9757-011e4febfa09",
   "metadata": {
    "tags": []
   },
   "source": [
    "# 2. Preparing and Augmenting Data"
   ]
  },
  {
   "cell_type": "markdown",
   "id": "08f7a42c-4eff-48dc-86cc-7ff526d1a3fa",
   "metadata": {
    "toc-hr-collapsed": true
   },
   "source": [
    "## 2.1 Augmenting Data to get more samples.\n",
    "    • Flip Horizontal\n",
    "    • Flip Vertical\n",
    "    • Brightness\n",
    "    • Contrast\n",
    "    • Saturation"
   ]
  },
  {
   "cell_type": "code",
   "execution_count": null,
   "id": "dd37ecdd-6f94-44c5-be71-401649591100",
   "metadata": {},
   "outputs": [],
   "source": [
    "# Get list of all disease folders in data\n",
    "original_data_path = \"./Data/original_data/\"\n",
    "original_data_folder = os.listdir(original_data_path)\n",
    "\n",
    "augmented_data_path = \"./Data/data/\""
   ]
  },
  {
   "cell_type": "code",
   "execution_count": null,
   "id": "e92e19d6-e84b-4dd0-b8d6-30247706e4bd",
   "metadata": {},
   "outputs": [],
   "source": [
    "def save_Augmented_Image(save_path,img):\n",
    "    cv2.imwrite(save_path,img)\n",
    "    \n",
    "for disease in original_data_folder:\n",
    "    images = os.listdir(os.path.join(original_data_path,disease))\n",
    "    # Loading each image\n",
    "    for current_image in images:\n",
    "        current_image_full_path = os.path.join(original_data_path, disease, current_image)\n",
    "        current_image_cv2 = cv2.imread(current_image_full_path)\n",
    "        \n",
    "        # Flip Horizontal\n",
    "        horizontal_flip_image = cv2.flip(current_image_cv2,1)\n",
    "        save_Augmented_Image(os.path.join(augmented_data_path,disease,\"fH_\"+current_image),horizontal_flip_image)\n",
    "\n",
    "        # Flip Vertical\n",
    "        vertical_flip_image = cv2.flip(current_image_cv2,0)\n",
    "        save_Augmented_Image(os.path.join(augmented_data_path,disease,\"fV_\"+current_image),vertical_flip_image)\n",
    "\n",
    "        # Adjust Brightness\n",
    "        brightness_higher = cv2.convertScaleAbs(current_image_cv2, alpha=1, beta=70)\n",
    "        brightness_lower = cv2.convertScaleAbs(current_image_cv2, alpha=1, beta=-40)\n",
    "        save_Augmented_Image(os.path.join(augmented_data_path,disease,\"bH_\"+current_image),brightness_higher)\n",
    "        save_Augmented_Image(os.path.join(augmented_data_path,disease,\"bL_\"+current_image),brightness_lower)\n",
    "\n",
    "        # Adjust Contrast\n",
    "        contrast_higher = cv2.convertScaleAbs(current_image_cv2, alpha=1.6, beta=0)\n",
    "        contrast_lower = cv2.convertScaleAbs(current_image_cv2, alpha=0.7, beta=0)\n",
    "        save_Augmented_Image(os.path.join(augmented_data_path,disease,\"cH_\"+current_image),contrast_higher)\n",
    "        save_Augmented_Image(os.path.join(augmented_data_path,disease,\"cL_\"+current_image),contrast_lower)"
   ]
  },
  {
   "cell_type": "markdown",
   "id": "95029b11-d7d7-4190-9c33-d6e01257c3c4",
   "metadata": {},
   "source": [
    "## 2.2 Saving augmented data into train, validation and test"
   ]
  },
  {
   "cell_type": "code",
   "execution_count": 312,
   "id": "162509c4-f3ed-4d95-856f-1860343990eb",
   "metadata": {
    "tags": []
   },
   "outputs": [],
   "source": [
    "# Get list of all disease folders in data\n",
    "original_data_path = \"./Data/original_data/\"\n",
    "original_data_folder = os.listdir(original_data_path)"
   ]
  },
  {
   "cell_type": "code",
   "execution_count": null,
   "id": "7cdcd6fd-d3e2-4afd-8a43-354dcc03459d",
   "metadata": {
    "tags": []
   },
   "outputs": [],
   "source": [
    "for disease in original_data_folder:\n",
    "    # Get all images inside each corresponding disease folder\n",
    "    images = np.array(os.listdir(os.path.join(original_data_path,disease)))\n",
    "    \n",
    "    # Specify train, test and validation sizes\n",
    "    train_partition = int(len(images)*.7)\n",
    "    validation_partition = int(len(images)*.2)\n",
    "    test_partition = int(len(images)*.1)\n",
    "    \n",
    "    # Empty lists to store all numbers in range into a list.\n",
    "    train_partition_indexes = []\n",
    "    validation_partition_indexes = []\n",
    "    test_partition_indexes = []\n",
    "    \n",
    "    # Array of Train images from partition.\n",
    "    for x in range(0,train_partition):\n",
    "        train_partition_indexes.append(x)\n",
    "    train_image_array = np.take(images,train_partition_indexes)\n",
    "    \n",
    "    # Array of Validation images from partition.\n",
    "    for x in range(train_partition, train_partition + validation_partition):\n",
    "        validation_partition_indexes.append(x)\n",
    "    validation_image_array = np.take(images, validation_partition_indexes)\n",
    "    \n",
    "    # Array of Test images from partition.\n",
    "    for x in range(train_partition + validation_partition , train_partition + validation_partition + test_partition):\n",
    "        test_partition_indexes.append(x)\n",
    "    test_image_array = np.take(images, test_partition_indexes)\n",
    "        \n",
    "    \n",
    "    # Used for Generating disease folders in train, validation and test directories.\n",
    "    #os.mkdir(f\"./Data/data/{disease}\")\n",
    "    #os.mkdir(f\"./Data/data/{disease}\")\n",
    "    #os.mkdir(f\"./Data/data/{disease}\")\n",
    "    \n",
    "    # Defining path to new folders\n",
    "    train_folder_path = \"./Data/data/train/\"\n",
    "    validation_folder_path = \"./Data/data/val/\"\n",
    "    test_folder_path = \"./Data/data/test/\"\n",
    "    \n",
    "    # Moving images to their respective train, validation and test folders\n",
    "    # • Train Images\n",
    "    for current_image in train_image_array:\n",
    "        current_image_full_path = os.path.join(original_data_path, disease, current_image)\n",
    "        shutil.copyfile(current_image_full_path, os.path.join(train_folder_path, disease, current_image))\n",
    "\n",
    "    # • Validation Images\n",
    "    for current_image in validation_image_array:\n",
    "        current_image_full_path = os.path.join(original_data_path, disease, current_image)\n",
    "        shutil.copyfile(current_image_full_path, os.path.join(validation_folder_path, disease, current_image))\n",
    "    \n",
    "    # • Test Images\n",
    "    for current_image in test_image_array:\n",
    "        current_image_full_path = os.path.join(original_data_path, disease, current_image)\n",
    "        shutil.copyfile(current_image_full_path, os.path.join(test_folder_path, disease, current_image)) \n",
    "    \n"
   ]
  },
  {
   "cell_type": "markdown",
   "id": "6337a845-60aa-410e-b19d-2e3ef552fd2a",
   "metadata": {
    "tags": [],
    "toc-hr-collapsed": true
   },
   "source": [
    "# 3. Model Creation"
   ]
  },
  {
   "cell_type": "markdown",
   "id": "9a4228a3-a97b-414f-a178-c80a26e3e29a",
   "metadata": {
    "tags": [],
    "toc-hr-collapsed": true
   },
   "source": [
    "## 3.1 Convolutional Neural Network (CNN)"
   ]
  },
  {
   "cell_type": "markdown",
   "id": "b3cfbaed-09ee-42e5-b0c2-7b219be65cad",
   "metadata": {},
   "source": [
    "### • Importing Libraries"
   ]
  },
  {
   "cell_type": "markdown",
   "id": "84055604-5aa8-4d15-8248-296a3f73ca31",
   "metadata": {},
   "source": [
    "### • Load processed data"
   ]
  },
  {
   "cell_type": "markdown",
   "id": "a02e1ba3-44ac-4e13-b1a1-23e27a5452e2",
   "metadata": {},
   "source": [
    "### • Define Model"
   ]
  },
  {
   "cell_type": "markdown",
   "id": "cbce0e64-0a8b-44d8-8ff9-64d14f95bcc7",
   "metadata": {},
   "source": [
    "### • Train Model"
   ]
  },
  {
   "cell_type": "markdown",
   "id": "db3e9a61-4e43-4dd6-819d-6f16bb9ca1e0",
   "metadata": {},
   "source": [
    "### • Export model as pickle"
   ]
  },
  {
   "cell_type": "markdown",
   "id": "a1f273b0-b4f7-438a-b458-e766b8b18520",
   "metadata": {
    "tags": [],
    "toc-hr-collapsed": true
   },
   "source": [
    "## 3.2 Support Vector Machine (SVM)\n",
    "\n"
   ]
  },
  {
   "cell_type": "markdown",
   "id": "37e2603e-14fb-42d1-8037-1a4be46ee95b",
   "metadata": {
    "tags": []
   },
   "source": [
    "### • Importing Libraries"
   ]
  },
  {
   "cell_type": "markdown",
   "id": "1ad1a915-9784-4de7-a27f-b604aa4fb247",
   "metadata": {},
   "source": [
    "### • Preprocess data"
   ]
  },
  {
   "cell_type": "markdown",
   "id": "e1fc77bc-2f58-44b7-9ec9-2451230b711a",
   "metadata": {},
   "source": [
    "### • Define Model"
   ]
  },
  {
   "cell_type": "markdown",
   "id": "4740d9cc-8f46-4977-b195-104921cc66e7",
   "metadata": {},
   "source": [
    "### • Train Model"
   ]
  },
  {
   "cell_type": "markdown",
   "id": "a8f64828-72c5-4bfd-840b-03b7fe76edda",
   "metadata": {},
   "source": [
    "### • Export model as pickle"
   ]
  },
  {
   "cell_type": "markdown",
   "id": "701e2ce9-9763-456e-b27a-073704cfdf20",
   "metadata": {
    "tags": [],
    "toc-hr-collapsed": true
   },
   "source": [
    "## 3.3 K-Nearest Neighbour (KNN)"
   ]
  },
  {
   "cell_type": "markdown",
   "id": "fad12889-e854-4d10-b00c-576d6fd15457",
   "metadata": {},
   "source": [
    "### • Importing Libraries"
   ]
  },
  {
   "cell_type": "markdown",
   "id": "b9d90218-625f-4bb8-aade-efdb514272cc",
   "metadata": {},
   "source": [
    "### • Preprocess data"
   ]
  },
  {
   "cell_type": "markdown",
   "id": "b3692937-6796-4438-912f-0bba4211e25b",
   "metadata": {},
   "source": [
    "### • Define Model"
   ]
  },
  {
   "cell_type": "markdown",
   "id": "bfd25a37-7800-424d-882b-bb88aa6d440a",
   "metadata": {},
   "source": [
    "### • Train Model"
   ]
  },
  {
   "cell_type": "markdown",
   "id": "f8597a14-b04b-445b-a610-b8ca626ec57e",
   "metadata": {},
   "source": [
    "### • Export model as pickle"
   ]
  },
  {
   "cell_type": "markdown",
   "id": "617c297d-3f47-40c8-870e-d121f3780fd5",
   "metadata": {
    "tags": [],
    "toc-hr-collapsed": true
   },
   "source": [
    "# 4. Model Evaluation"
   ]
  },
  {
   "cell_type": "markdown",
   "id": "3cdd9caf-2544-49c5-9fe0-f577e804e63f",
   "metadata": {
    "tags": [],
    "toc-hr-collapsed": true
   },
   "source": [
    "## 4.1 Testing Models"
   ]
  },
  {
   "cell_type": "markdown",
   "id": "46dde5b3-e99e-4c2c-a3eb-30fcc7b6dd8a",
   "metadata": {
    "tags": []
   },
   "source": [
    "### • Test functionality"
   ]
  },
  {
   "cell_type": "code",
   "execution_count": null,
   "id": "7b10d49a-f726-4ccc-ab12-e1338ba542b9",
   "metadata": {},
   "outputs": [],
   "source": []
  },
  {
   "cell_type": "markdown",
   "id": "07dfb5af-e1b9-4fac-aff8-df603eaf777a",
   "metadata": {
    "tags": []
   },
   "source": [
    "### • Gather datapoints for visualization"
   ]
  },
  {
   "cell_type": "code",
   "execution_count": null,
   "id": "7a986c95-eabb-4d40-991f-a51882b38bc4",
   "metadata": {},
   "outputs": [],
   "source": []
  },
  {
   "cell_type": "markdown",
   "id": "edd76ac2-0116-48c9-87d4-dcf9e2370831",
   "metadata": {
    "toc-hr-collapsed": true
   },
   "source": [
    "## 4.2 Visualisations"
   ]
  },
  {
   "cell_type": "markdown",
   "id": "30f2eda8-3824-4c5a-b733-1cfb3d9f8c3a",
   "metadata": {},
   "source": [
    "### Visualizing with matplotlib:\n",
    "    • Test Loss\n",
    "    • Test Accuracy\n",
    "    • Visualise all model performances\n",
    "    • Visualise images with predicted area of infection"
   ]
  },
  {
   "cell_type": "code",
   "execution_count": null,
   "id": "ed10f801-0127-4d33-a159-7ab47d6fd14b",
   "metadata": {},
   "outputs": [],
   "source": []
  },
  {
   "cell_type": "markdown",
   "id": "9dd68f5b-1c90-4c30-a899-541d16b48c93",
   "metadata": {
    "toc-hr-collapsed": true
   },
   "source": [
    "## 4.3 Saving Predictions"
   ]
  },
  {
   "cell_type": "markdown",
   "id": "4da88191-8fde-4f5d-b989-fda5a30e3f42",
   "metadata": {},
   "source": [
    "### Save predictions to \"predicted_data\" folder"
   ]
  },
  {
   "cell_type": "code",
   "execution_count": null,
   "id": "841eee00-d989-4b50-bcbd-43bcbb4d8bac",
   "metadata": {},
   "outputs": [],
   "source": []
  }
 ],
 "metadata": {
  "kernelspec": {
   "display_name": "Python 3 (ipykernel)",
   "language": "python",
   "name": "python3"
  },
  "language_info": {
   "codemirror_mode": {
    "name": "ipython",
    "version": 3
   },
   "file_extension": ".py",
   "mimetype": "text/x-python",
   "name": "python",
   "nbconvert_exporter": "python",
   "pygments_lexer": "ipython3",
   "version": "3.11.5"
  }
 },
 "nbformat": 4,
 "nbformat_minor": 5
}
